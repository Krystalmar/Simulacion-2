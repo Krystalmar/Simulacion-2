{
  "nbformat": 4,
  "nbformat_minor": 0,
  "metadata": {
    "colab": {
      "provenance": [],
      "authorship_tag": "ABX9TyOiYLybqbb2pIrVuevcdBOA",
      "include_colab_link": true
    },
    "kernelspec": {
      "name": "python3",
      "display_name": "Python 3"
    },
    "language_info": {
      "name": "python"
    }
  },
  "cells": [
    {
      "cell_type": "markdown",
      "metadata": {
        "id": "view-in-github",
        "colab_type": "text"
      },
      "source": [
        "<a href=\"https://colab.research.google.com/github/Krystalmar/Simulacion-2/blob/main/Serpientes_y_escaleras.ipynb\" target=\"_parent\"><img src=\"https://colab.research.google.com/assets/colab-badge.svg\" alt=\"Open In Colab\"/></a>"
      ]
    },
    {
      "cell_type": "markdown",
      "source": [
        "#Serpientes y escaleras por el método analitico."
      ],
      "metadata": {
        "id": "otHBsUZGbj9m"
      }
    },
    {
      "cell_type": "markdown",
      "source": [
        "Primero hay que considerar una cadena de Markov de estado absorbente, es decir un proceso estocástico que tiene la característica de que al menos uno de sus estados es \"absorbente\". Un estado absorbente es aquel que, una vez alcanzado, no puede abandonarse; es decir, la probabilidad de transición desde un estado absorbente de regreso a sí mismo es 1.\n",
        "Nosotros consideramos al juego serpientesy escaleras como este tipo porque una vez que ganas, termina el juego.\n"
      ],
      "metadata": {
        "id": "iULqF95qzC5b"
      }
    },
    {
      "cell_type": "markdown",
      "source": [
        "Para armar la matriz de probabilidades notamos que para este caso solo usaremos un dado, es decir la probabilidad de llegar a cada casilla es de $\\frac{1}{6}$ PERO, al tener mas de una opcion para llegar a algunas casillas ya sea que consideramos subir o bajar, entonces habra que modificar la matriz dependiendo donde se ubiquen las serpientes y las escaleras.\n",
        "Entonces nos quedaría de la siguiente manera:\n"
      ],
      "metadata": {
        "id": "sw34CdCNz9hK"
      }
    },
    {
      "cell_type": "code",
      "source": [
        "#aqui iria la matriz de probabilidades"
      ],
      "metadata": {
        "id": "Rd8BmF5Dbd5D"
      },
      "execution_count": null,
      "outputs": []
    },
    {
      "cell_type": "markdown",
      "source": [
        "Ahora considerando la matrizdetransicion:\\\n",
        "$P = \\begin{bmatrix}\n",
        "I & O \\\\\n",
        "R & Q\n",
        "\\end{bmatrix}$ \\\\\n",
        "donde: \\\n",
        "\\( I \\) es una matriz identidad que representa los estados absorbentes.\\\n",
        "\\( O \\) es una matriz de ceros.\\\n",
        "\\( R \\) representa las transiciones de los estados transitorios a los estados absorbentes.\\\n",
        "\\( Q \\) representa las transiciones entre los estados transitorios.\n"
      ],
      "metadata": {
        "id": "m_fIE4dl2N8p"
      }
    },
    {
      "cell_type": "code",
      "source": [
        "import numpy as np\n",
        "\n",
        "n = 20 #Número de casillas\n",
        "\n",
        "matrizdetransicion= np.zeros((n, n)) #Creamos la matriz de transición con ceros\n",
        "\n",
        "# Definir las serpientes y escaleras como diccionarios\n",
        "serpientesyescaleras = {\n",
        "    3: 11,  #escalera\n",
        "    13: 4,  #serpiente\n",
        "    15: 19,  #escalera\n",
        "    17: 10,  #serpiente\n",
        "}\n",
        "\n",
        "# Rellenar la matriz de transición\n",
        "for i in range(n):\n",
        "    if i in serpientesyescaleras:\n",
        "        matrizdetransicion[i, serpientesyescaleras[i]] = 1\n",
        "    elif i in serpientesyescaleras:\n",
        "        matrizdetransicion[i, serpientesyescaleras[i]] = 1\n",
        "    else:\n",
        "        for j in range(1, 7):\n",
        "            if i + j < n:\n",
        "                if i + j in serpientesyescaleras:\n",
        "                    matrizdetransicion[i, serpientesyescaleras[i + j]] += 1/6\n",
        "                elif i + j in serpientesyescaleras:\n",
        "                    matrizdetransicion[i, serpientesyescaleras[i + j]] += 1/6\n",
        "                else:\n",
        "                    matrizdetransicion[i, i + j] += 1/6\n",
        "            else:\n",
        "                # Si el lanzamiento del dado lleva más allá del último cuadro,\n",
        "                # se acumula la probabilidad en el cuadro actual\n",
        "                matrizdetransicion[i, i] += 1/6\n",
        "\n",
        "print(\"Matriz de Transición:\\n\", matrizdetransicion)"
      ],
      "metadata": {
        "colab": {
          "base_uri": "https://localhost:8080/"
        },
        "id": "FKV1ToHj3uJ4",
        "outputId": "7703080f-95e0-44cc-e3fc-6ff5b1dbd720",
        "collapsed": true
      },
      "execution_count": null,
      "outputs": [
        {
          "output_type": "stream",
          "name": "stdout",
          "text": [
            "Matriz de Transición:\n",
            " [[0.         0.16666667 0.16666667 0.         0.16666667 0.16666667\n",
            "  0.16666667 0.         0.         0.         0.         0.16666667\n",
            "  0.         0.         0.         0.         0.         0.\n",
            "  0.         0.        ]\n",
            " [0.         0.         0.16666667 0.         0.16666667 0.16666667\n",
            "  0.16666667 0.16666667 0.         0.         0.         0.16666667\n",
            "  0.         0.         0.         0.         0.         0.\n",
            "  0.         0.        ]\n",
            " [0.         0.         0.         0.         0.16666667 0.16666667\n",
            "  0.16666667 0.16666667 0.16666667 0.         0.         0.16666667\n",
            "  0.         0.         0.         0.         0.         0.\n",
            "  0.         0.        ]\n",
            " [0.         0.         0.         0.         0.         0.\n",
            "  0.         0.         0.         0.         0.         1.\n",
            "  0.         0.         0.         0.         0.         0.\n",
            "  0.         0.        ]\n",
            " [0.         0.         0.         0.         0.         0.16666667\n",
            "  0.16666667 0.16666667 0.16666667 0.16666667 0.16666667 0.\n",
            "  0.         0.         0.         0.         0.         0.\n",
            "  0.         0.        ]\n",
            " [0.         0.         0.         0.         0.         0.\n",
            "  0.16666667 0.16666667 0.16666667 0.16666667 0.16666667 0.16666667\n",
            "  0.         0.         0.         0.         0.         0.\n",
            "  0.         0.        ]\n",
            " [0.         0.         0.         0.         0.         0.\n",
            "  0.         0.16666667 0.16666667 0.16666667 0.16666667 0.16666667\n",
            "  0.16666667 0.         0.         0.         0.         0.\n",
            "  0.         0.        ]\n",
            " [0.         0.         0.         0.         0.16666667 0.\n",
            "  0.         0.         0.16666667 0.16666667 0.16666667 0.16666667\n",
            "  0.16666667 0.         0.         0.         0.         0.\n",
            "  0.         0.        ]\n",
            " [0.         0.         0.         0.         0.16666667 0.\n",
            "  0.         0.         0.         0.16666667 0.16666667 0.16666667\n",
            "  0.16666667 0.         0.16666667 0.         0.         0.\n",
            "  0.         0.        ]\n",
            " [0.         0.         0.         0.         0.16666667 0.\n",
            "  0.         0.         0.         0.         0.16666667 0.16666667\n",
            "  0.16666667 0.         0.16666667 0.         0.         0.\n",
            "  0.         0.16666667]\n",
            " [0.         0.         0.         0.         0.16666667 0.\n",
            "  0.         0.         0.         0.         0.         0.16666667\n",
            "  0.16666667 0.         0.16666667 0.         0.16666667 0.\n",
            "  0.         0.16666667]\n",
            " [0.         0.         0.         0.         0.16666667 0.\n",
            "  0.         0.         0.         0.         0.16666667 0.\n",
            "  0.16666667 0.         0.16666667 0.         0.16666667 0.\n",
            "  0.         0.16666667]\n",
            " [0.         0.         0.         0.         0.16666667 0.\n",
            "  0.         0.         0.         0.         0.16666667 0.\n",
            "  0.         0.         0.16666667 0.         0.16666667 0.\n",
            "  0.16666667 0.16666667]\n",
            " [0.         0.         0.         0.         1.         0.\n",
            "  0.         0.         0.         0.         0.         0.\n",
            "  0.         0.         0.         0.         0.         0.\n",
            "  0.         0.        ]\n",
            " [0.         0.         0.         0.         0.         0.\n",
            "  0.         0.         0.         0.         0.16666667 0.\n",
            "  0.         0.         0.16666667 0.         0.16666667 0.\n",
            "  0.16666667 0.33333333]\n",
            " [0.         0.         0.         0.         0.         0.\n",
            "  0.         0.         0.         0.         0.         0.\n",
            "  0.         0.         0.         0.         0.         0.\n",
            "  0.         1.        ]\n",
            " [0.         0.         0.         0.         0.         0.\n",
            "  0.         0.         0.         0.         0.16666667 0.\n",
            "  0.         0.         0.         0.         0.5        0.\n",
            "  0.16666667 0.16666667]\n",
            " [0.         0.         0.         0.         0.         0.\n",
            "  0.         0.         0.         0.         1.         0.\n",
            "  0.         0.         0.         0.         0.         0.\n",
            "  0.         0.        ]\n",
            " [0.         0.         0.         0.         0.         0.\n",
            "  0.         0.         0.         0.         0.         0.\n",
            "  0.         0.         0.         0.         0.         0.\n",
            "  0.83333333 0.16666667]\n",
            " [0.         0.         0.         0.         0.         0.\n",
            "  0.         0.         0.         0.         0.         0.\n",
            "  0.         0.         0.         0.         0.         0.\n",
            "  0.         1.        ]]\n"
          ]
        }
      ]
    },
    {
      "cell_type": "markdown",
      "source": [
        "Resolviendo lo planteado antes:"
      ],
      "metadata": {
        "id": "46CHKeqC634c"
      }
    },
    {
      "cell_type": "code",
      "source": [
        "# Estados transitorios (todos menos el último)\n",
        "transitorios = list(range(n - 1))\n",
        "\n",
        "# Submatriz Q (transiciones entre estados transitorios)\n",
        "Q = matrizdetransicion[np.ix_(transitorios, transitorios)]\n",
        "\n",
        "# Matriz identidad del tamaño de Q\n",
        "I = np.eye(Q.shape[0])\n",
        "\n",
        "# Calcular la matriz fundamental N = (I - Q)^{-1}\n",
        "N = np.linalg.inv(I - Q)\n",
        "\n",
        "# Calcular el número esperado de pasos hasta la absorción para cada estado transitorio\n",
        "pasosesperados = N_esperado = np.sum(N[0, :])\n",
        "\n",
        "print(\"Número Esperado de Pasos desde cada estado transitorio:\\n\", pasosesperados)"
      ],
      "metadata": {
        "colab": {
          "base_uri": "https://localhost:8080/"
        },
        "id": "Hy2L2OlC63l4",
        "outputId": "255bc959-e358-4ddc-b7df-aa133b5bb9df"
      },
      "execution_count": null,
      "outputs": [
        {
          "output_type": "stream",
          "name": "stdout",
          "text": [
            "Número Esperado de Pasos desde cada estado transitorio:\n",
            " 8.932606152291346\n"
          ]
        }
      ]
    },
    {
      "cell_type": "markdown",
      "source": [
        "#Simulación del serpientesyescaleras y Escaleras"
      ],
      "metadata": {
        "id": "LZwvXpv9bYEM"
      }
    },
    {
      "cell_type": "code",
      "source": [
        "import random\n",
        "\n",
        "final = int(input(\">: Casilla final: \"))\n",
        "iteraciones = int(input(\">: No. de iteraciones: \"))\n",
        "N_esperado = []\n",
        "\n",
        "# Diccionario. Representa la relación entre origen/destino de un evento.\n",
        "# Evento = caer en serpiente o escalera.\n",
        "# Formato => Origen:Destino\n",
        "serpientesyescalerasyescaleras = {\n",
        "    3: 11,  #escalera\n",
        "    13: 4,  #serpiente\n",
        "    15: 19,  #escalera\n",
        "    17: 10,  #serpiente\n",
        "}\n",
        "\n",
        "for i in range(21):\n",
        "  tiros = 0\n",
        "  for j in range(0, iteraciones):\n",
        "    casilla = 0\n",
        "\n",
        "    while(casilla < final):\n",
        "      dado = random.randint(1,6)\n",
        "      casilla += dado\n",
        "\n",
        "      if casilla in serpientesyescalerasyescaleras:\n",
        "          casilla = serpientesyescalerasyescaleras[casilla]\n",
        "      tiros+=1\n",
        "\n",
        "  N_esperado.append(tiros / iteraciones)\n",
        "\n",
        "print(\">: Lanzamientos esperados (N): \", N_esperado[0])"
      ],
      "metadata": {
        "colab": {
          "base_uri": "https://localhost:8080/"
        },
        "id": "x3EI7UWp-krH",
        "outputId": "1366c62d-11b4-41df-d157-b07d52eb3eef"
      },
      "execution_count": null,
      "outputs": [
        {
          "output_type": "stream",
          "name": "stdout",
          "text": [
            ">: Casilla final: 20\n",
            ">: No. de iteraciones: 500\n",
            ">: Lanzamientos esperados (N):  6.89\n"
          ]
        }
      ]
    }
  ]
}