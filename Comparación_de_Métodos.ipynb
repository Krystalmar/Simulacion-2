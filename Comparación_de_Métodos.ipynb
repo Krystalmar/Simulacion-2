{
  "nbformat": 4,
  "nbformat_minor": 0,
  "metadata": {
    "colab": {
      "provenance": [],
      "authorship_tag": "ABX9TyPcTLPi0//2KTP7PrnFlUKa",
      "include_colab_link": true
    },
    "kernelspec": {
      "name": "python3",
      "display_name": "Python 3"
    },
    "language_info": {
      "name": "python"
    }
  },
  "cells": [
    {
      "cell_type": "markdown",
      "metadata": {
        "id": "view-in-github",
        "colab_type": "text"
      },
      "source": [
        "<a href=\"https://colab.research.google.com/github/Krystalmar/Simulacion-2/blob/main/Comparaci%C3%B3n_de_M%C3%A9todos.ipynb\" target=\"_parent\"><img src=\"https://colab.research.google.com/assets/colab-badge.svg\" alt=\"Open In Colab\"/></a>"
      ]
    },
    {
      "cell_type": "code",
      "source": [
        "import numpy as np\n",
        "import matplotlib.pyplot as plt\n",
        "import math\n",
        "import random"
      ],
      "metadata": {
        "id": "xm1gOCa9Daa8"
      },
      "execution_count": null,
      "outputs": []
    },
    {
      "cell_type": "code",
      "source": [
        "def g(x):\n",
        "    return ((math.exp(x)-1)/(math.exp(1)-1))\n",
        "N= 1000\n",
        "\n",
        "def f(x):\n",
        "    return(2*x)"
      ],
      "metadata": {
        "id": "qPDcPDXiDcrp"
      },
      "execution_count": null,
      "outputs": []
    },
    {
      "cell_type": "markdown",
      "source": [
        "Método Acierto y Error"
      ],
      "metadata": {
        "id": "fqmU0XYqBqct"
      }
    },
    {
      "cell_type": "code",
      "execution_count": null,
      "metadata": {
        "id": "Kf-jxjXHA1AS"
      },
      "outputs": [],
      "source": [
        "def integracionmc(func, exps, a, b, c):\n",
        "    hits = 0\n",
        "    area = []\n",
        "    for exp in range(1, exps + 1):\n",
        "        u_1 = np.random.uniform(a, b)\n",
        "        u_2 = np.random.uniform(0, c)\n",
        "        evaluacion = func(u_1)\n",
        "\n",
        "        if evaluacion > u_2:\n",
        "            hits += 1\n",
        "        estimacion = c * (a - b) * hits / exp\n",
        "        area.append(estimacion)\n",
        "    return area\n",
        "\n",
        "resultados = integracionmc(g, 100, 0, 1, 1.2) #Aquí se ingresan los valores del limite superior: a, inferior: b, y c\n",
        "\n",
        "def simularmc(reps):\n",
        "    return [np.mean(integracionmc(fun, 2000, 0, 1, 1.2)) for _ in range(reps)]\n",
        "\n",
        "simulacion = simularmc(N)"
      ]
    },
    {
      "cell_type": "markdown",
      "source": [
        "Media Muestral"
      ],
      "metadata": {
        "id": "MyrHDnP6Cm2_"
      }
    },
    {
      "cell_type": "code",
      "source": [
        "def media_muestral(n):\n",
        "    a = 0\n",
        "    b = 1\n",
        "    evaluaciones = 0\n",
        "\n",
        "    for i in range(1, n + 1):\n",
        "        u = random.random()\n",
        "        evaluaciones = evaluaciones + g((b - a) * u + a)\n",
        "    integral = evaluaciones / n\n",
        "    return integral\n",
        "\n",
        "sumatoria = 0 # promedio de las medias muestrales obtenidas en el for\n",
        "\n",
        "for i in range(N):\n",
        "    sumatoria += media_muestral(N)\n",
        "\n",
        "promedio = sumatoria / N"
      ],
      "metadata": {
        "id": "NAhTtpetCrVT"
      },
      "execution_count": null,
      "outputs": []
    },
    {
      "cell_type": "markdown",
      "source": [
        "Muestreo de importancia"
      ],
      "metadata": {
        "id": "xFo-otprC-BY"
      }
    },
    {
      "cell_type": "code",
      "source": [
        "#f la funcion de densidad que proponemos, deinida arriba\n",
        "def importancia(n):\n",
        "    a = 0\n",
        "    b = 1\n",
        "    i = 1\n",
        "    suma=0\n",
        "    while i <= n:\n",
        "        u = random.random()\n",
        "        u = (b-a)*u+a\n",
        "        suma = suma + (g(u)/f(u))\n",
        "        i += 1\n",
        "    integral = suma/n\n",
        "    return integral\n",
        "\n",
        "sumatoria2 = 0\n",
        "\n",
        "for i in range(N):\n",
        "    sumatoria2 += importancia(100)\n",
        "\n",
        "promedio2 = sumatoria2 / N"
      ],
      "metadata": {
        "id": "_O9aeNrkDF91"
      },
      "execution_count": null,
      "outputs": []
    },
    {
      "cell_type": "markdown",
      "source": [
        "Muestreo Estratificado"
      ],
      "metadata": {
        "id": "_aHZXqeuDJKR"
      }
    },
    {
      "cell_type": "code",
      "source": [
        "def estratificado(N):\n",
        "    a = 0\n",
        "    b = 1\n",
        "    m = 10\n",
        "    l = (b-a)/m\n",
        "    puntos = int(N/m)\n",
        "    prom = 0\n",
        "    for j in range(1, m+1):\n",
        "        for i in range(1, puntos+1):\n",
        "            x = l*random.random() + (j-1)/m\n",
        "            prom = prom + g(x)\n",
        "    return prom/N\n",
        "\n",
        "sumatoria3 = 0\n",
        "\n",
        "for i in range(N):\n",
        "    sumatoria3 += estratificado(100)\n",
        "\n",
        "promedio3 = sumatoria3 / N"
      ],
      "metadata": {
        "id": "ELjerV4bDOc-"
      },
      "execution_count": null,
      "outputs": []
    },
    {
      "cell_type": "code",
      "source": [
        "media1 = np.mean(simulacion)\n",
        "media2 = np.mean(promedio)\n",
        "media3 = np.mean(promedio2)\n",
        "media4 = np.mean(promedio3)\n",
        "\n",
        "varianza1 = np.var(simulacion)\n",
        "varianza2 = np.var(promedio)\n",
        "varianza3 = np.var(promedio2)\n",
        "varianza4 = np.var(promedio3)\n"
      ],
      "metadata": {
        "id": "UgjxiBPkYp8l"
      },
      "execution_count": null,
      "outputs": []
    }
  ]
}